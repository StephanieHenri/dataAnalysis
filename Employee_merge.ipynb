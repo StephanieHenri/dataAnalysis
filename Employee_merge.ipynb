{
 "cells": [
  {
   "cell_type": "code",
   "execution_count": 1,
   "id": "7d3326c6",
   "metadata": {},
   "outputs": [],
   "source": [
    "import pandas as pd\n",
    "import matplotlib.pyplot as plt\n",
    "import seaborn as sns\n",
    "import numpy as np\n",
    "import plotly.graph_objs as go\n",
    "from plotly.offline import iplot\n",
    "sns.set()\n",
    "pd.options.display.max_columns = 999"
   ]
  },
  {
   "cell_type": "code",
   "execution_count": 2,
   "id": "fbee816e",
   "metadata": {},
   "outputs": [],
   "source": [
    "df = pd.read_excel('Employee.xlsx')\n",
    "df1 = pd.read_excel('4PS_Employees.xlsx')"
   ]
  },
  {
   "cell_type": "code",
   "execution_count": 3,
   "id": "5d0c055c",
   "metadata": {},
   "outputs": [],
   "source": [
    "employee = pd.merge(df,df1, on='Employee', how='left')"
   ]
  },
  {
   "cell_type": "code",
   "execution_count": 4,
   "id": "be35a303",
   "metadata": {},
   "outputs": [],
   "source": [
    "employee.to_excel('employee_updated.xlsx', index=False)"
   ]
  }
 ],
 "metadata": {
  "kernelspec": {
   "display_name": "Python 3 (ipykernel)",
   "language": "python",
   "name": "python3"
  },
  "language_info": {
   "codemirror_mode": {
    "name": "ipython",
    "version": 3
   },
   "file_extension": ".py",
   "mimetype": "text/x-python",
   "name": "python",
   "nbconvert_exporter": "python",
   "pygments_lexer": "ipython3",
   "version": "3.11.5"
  }
 },
 "nbformat": 4,
 "nbformat_minor": 5
}
