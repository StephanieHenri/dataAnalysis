{
 "cells": [
  {
   "cell_type": "code",
   "execution_count": 1,
   "id": "b751b003",
   "metadata": {},
   "outputs": [],
   "source": [
    "import pandas as pd\n",
    "import matplotlib.pyplot as plt\n",
    "import seaborn as sns\n",
    "import numpy as np\n",
    "import plotly.graph_objs as go\n",
    "from plotly.offline import iplot\n",
    "sns.set()\n",
    "pd.options.display.max_columns = 999"
   ]
  },
  {
   "cell_type": "code",
   "execution_count": 2,
   "id": "4170992e",
   "metadata": {},
   "outputs": [
    {
     "name": "stdout",
     "output_type": "stream",
     "text": [
      "Approval Matrix updated 020124.xlsx Responsible persons.xlsx\r\n",
      "Code.ipynb                          Tender_rp.ipynb\r\n",
      "OAProject.xlsx                      mapped_responsible_persons.xlsx\r\n",
      "Responsibilities.xlsx               responsible_persons.xlsx\r\n"
     ]
    }
   ],
   "source": [
    "!ls"
   ]
  },
  {
   "cell_type": "markdown",
   "id": "673f8bcb",
   "metadata": {},
   "source": [
    "RESPONSIBLE PERSONS"
   ]
  },
  {
   "cell_type": "code",
   "execution_count": 3,
   "id": "55ebcdab",
   "metadata": {},
   "outputs": [],
   "source": [
    "df = pd.read_excel('OAProject.xlsx')\n",
    "df1 = pd.read_excel('Approval Matrix updated 020124.xlsx')"
   ]
  },
  {
   "cell_type": "code",
   "execution_count": 4,
   "id": "0932f958",
   "metadata": {},
   "outputs": [],
   "source": [
    "approvalMatrix= pd.merge(df,df1, on='Contract', how='left')"
   ]
  },
  {
   "cell_type": "code",
   "execution_count": 5,
   "id": "56f31c0d",
   "metadata": {},
   "outputs": [],
   "source": [
    "# changing dtype from integer to string\n",
    "# df1['ContractNo'] = df1['ContractNo'].map(int)\n",
    "# df1['ContractNo'] =df1['ContractNo'].map(str)\n",
    "# df1.dtypes"
   ]
  },
  {
   "cell_type": "code",
   "execution_count": 6,
   "id": "f69cb7d0",
   "metadata": {},
   "outputs": [],
   "source": [
    "# con=pd.concat([df, df1], axis=0, join='outer')\n",
    "# con"
   ]
  },
  {
   "cell_type": "code",
   "execution_count": 7,
   "id": "91ce8063",
   "metadata": {},
   "outputs": [],
   "source": [
    "approvalMatrix.to_excel('responsible_persons.xlsx', index=False)"
   ]
  },
  {
   "cell_type": "markdown",
   "id": "20e552a7",
   "metadata": {},
   "source": [
    "D365 / 4PS Mapping"
   ]
  },
  {
   "cell_type": "code",
   "execution_count": 8,
   "id": "e1c899e0",
   "metadata": {},
   "outputs": [],
   "source": [
    "df4 = pd.read_excel('Responsibilities.xlsx')\n",
    "df5 = pd.read_excel('responsible_persons.xlsx')"
   ]
  },
  {
   "cell_type": "code",
   "execution_count": 9,
   "id": "3c6288b9",
   "metadata": {},
   "outputs": [],
   "source": [
    "mapped_responsible_persons=pd.merge(df5,df4, on='Role', how='left')"
   ]
  },
  {
   "cell_type": "code",
   "execution_count": 10,
   "id": "ae8660a4",
   "metadata": {},
   "outputs": [],
   "source": [
    "# dropped_na_values = pd.unique(df5[['Role', 'Code_x']].values.ravel())\n",
    "# print(dropped_na_values)"
   ]
  },
  {
   "cell_type": "code",
   "execution_count": 11,
   "id": "965bda6d",
   "metadata": {},
   "outputs": [],
   "source": [
    "roles_code= {'Operational Director':'NAK02', 'Comm Manager':'C045M',\n",
    " 'Divisional Director':'DIRV4','Senior Office Manager':'SOM33',\n",
    " 'Quality Manager':'QMR67','Contracts Manager':'CMRI9'}"
   ]
  },
  {
   "cell_type": "code",
   "execution_count": 12,
   "id": "dda60807",
   "metadata": {},
   "outputs": [],
   "source": [
    "mapped_responsible_persons['Code']=mapped_responsible_persons['Role'].map(roles_code)"
   ]
  },
  {
   "cell_type": "code",
   "execution_count": 13,
   "id": "4b028809",
   "metadata": {},
   "outputs": [],
   "source": [
    "mapped_responsible_persons.to_excel('mapped_responsible_persons.xlsx', index=False)"
   ]
  }
 ],
 "metadata": {
  "kernelspec": {
   "display_name": "Python 3 (ipykernel)",
   "language": "python",
   "name": "python3"
  },
  "language_info": {
   "codemirror_mode": {
    "name": "ipython",
    "version": 3
   },
   "file_extension": ".py",
   "mimetype": "text/x-python",
   "name": "python",
   "nbconvert_exporter": "python",
   "pygments_lexer": "ipython3",
   "version": "3.11.5"
  }
 },
 "nbformat": 4,
 "nbformat_minor": 5
}
