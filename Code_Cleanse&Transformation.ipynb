{
 "cells": [
  {
   "cell_type": "code",
   "execution_count": 1,
   "id": "550911e0",
   "metadata": {},
   "outputs": [],
   "source": [
    "# import libraries\n",
    "import pandas as pd\n",
    "from pathlib import Path\n",
    "import openpyxl\n",
    "from openpyxl import workbook, load_workbook\n",
    "import xlwings as xw\n",
    "import requests"
   ]
  },
  {
   "cell_type": "code",
   "execution_count": 2,
   "id": "942a4152",
   "metadata": {},
   "outputs": [],
   "source": [
    "# df=pd.read_excel(\"Sbo_master_V5.xlsx\")\n",
    "master=pd.read_excel(\"Sbo_master.xlsx\")\n",
    "master['project'] = master['project'].map(int)\n",
    "master['project'] = master['project'].map(str)"
   ]
  },
  {
   "cell_type": "code",
   "execution_count": 3,
   "id": "1ccc4c2d",
   "metadata": {},
   "outputs": [],
   "source": [
    "# load data\n",
    "project=pd.read_excel(\"Infrastructure South.xlsx\", skiprows=30, index_col=0, sheet_name='Subcontractors')\n",
    "project=project.reset_index(drop=True)"
   ]
  },
  {
   "cell_type": "code",
   "execution_count": 4,
   "id": "9d3b7ead",
   "metadata": {},
   "outputs": [],
   "source": [
    "# split columns\n",
    "project[['projectfalse','project','num1','num2']]=project['Subcontract Order Number'].str.split('/', expand=True)\n",
    "# combine columns\n",
    "project['Document_No']=project['num1'].astype(str)+ '/' +project['num2']"
   ]
  },
  {
   "cell_type": "code",
   "execution_count": 5,
   "id": "d6d730a5",
   "metadata": {},
   "outputs": [],
   "source": [
    "df_final=pd.merge(project,master, on='Document_No', how='outer')\n",
    "df_final['project_cols'] = (df_final['project_x'] == df_final['project_y'])"
   ]
  },
  {
   "cell_type": "code",
   "execution_count": 6,
   "id": "25c25dbf",
   "metadata": {},
   "outputs": [],
   "source": [
    "# df_final= df_final[df_final['project_cols'] == True]"
   ]
  },
  {
   "cell_type": "code",
   "execution_count": 7,
   "id": "f5e1bb1d",
   "metadata": {},
   "outputs": [],
   "source": [
    "rlst=df_final.drop(columns=['Unnamed: 21',\n",
    "       'Unnamed: 22', 'Unnamed: 23', 'DOM0110', 'projectfalse','project_x','num1', 'num2',\n",
    "       'Document_No', 'Project No.', 'project_y','Subcontractor No.'])"
   ]
  },
  {
   "cell_type": "code",
   "execution_count": 8,
   "id": "39f07c44",
   "metadata": {},
   "outputs": [],
   "source": [
    "rlst= rlst[rlst[\"Document No.\"].notna()]"
   ]
  },
  {
   "cell_type": "code",
   "execution_count": 9,
   "id": "d12cdc4e",
   "metadata": {},
   "outputs": [],
   "source": [
    "rlst= rlst[rlst[\"Subcontract Order Number\"].notna()]"
   ]
  },
  {
   "cell_type": "code",
   "execution_count": 10,
   "id": "4f147410",
   "metadata": {},
   "outputs": [],
   "source": [
    "rlst=rlst.rename(columns={'Subcontract Order Number': 'Subcontract Order Number - OLD',\n",
    "                  })"
   ]
  },
  {
   "cell_type": "code",
   "execution_count": 11,
   "id": "207751a3",
   "metadata": {},
   "outputs": [],
   "source": [
    "rlst=rlst.rename(columns={'Document No.': 'Subcontract Order Number',\n",
    "                  })"
   ]
  },
  {
   "cell_type": "code",
   "execution_count": 12,
   "id": "ca86a886",
   "metadata": {},
   "outputs": [],
   "source": [
    "current_directory=Path(_file_).parent if '_file_' in locals() else Path.cwd()\n",
    "file=current_directory / '.xlsx'\n",
    "output=current_directory / 'output'\n",
    "output.mkdir(parents=True, exist_ok=True)\n",
    "rlst.to_excel(output/'Infrastructure South.xlsx', index=False)"
   ]
  }
 ],
 "metadata": {
  "kernelspec": {
   "display_name": "Python 3 (ipykernel)",
   "language": "python",
   "name": "python3"
  },
  "language_info": {
   "codemirror_mode": {
    "name": "ipython",
    "version": 3
   },
   "file_extension": ".py",
   "mimetype": "text/x-python",
   "name": "python",
   "nbconvert_exporter": "python",
   "pygments_lexer": "ipython3",
   "version": "3.11.5"
  }
 },
 "nbformat": 4,
 "nbformat_minor": 5
}
