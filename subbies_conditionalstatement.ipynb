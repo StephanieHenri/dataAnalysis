{
 "cells": [
  {
   "cell_type": "code",
   "execution_count": 1,
   "id": "ad1a1379",
   "metadata": {},
   "outputs": [],
   "source": [
    "import pandas as pd"
   ]
  },
  {
   "cell_type": "code",
   "execution_count": 2,
   "id": "54ab38e8",
   "metadata": {},
   "outputs": [],
   "source": [
    "df=pd.read_csv('SBO.csv')"
   ]
  },
  {
   "cell_type": "code",
   "execution_count": 3,
   "id": "dba7c68a",
   "metadata": {},
   "outputs": [],
   "source": [
    "df['Reticfied_value'] = df['Order_Value'] - df['Current_Certified']"
   ]
  },
  {
   "cell_type": "code",
   "execution_count": 4,
   "id": "08a66bd0",
   "metadata": {},
   "outputs": [],
   "source": [
    "mask = df[\"Order_Value\"] < df[\"Current_Certified\"]\n",
    "df.loc[mask, \"Order_Value\"] = df.loc[mask, \"Current_Certified\"]"
   ]
  },
  {
   "cell_type": "code",
   "execution_count": 5,
   "id": "3c938274",
   "metadata": {},
   "outputs": [],
   "source": [
    "# df[[\"Order_Value\", \"Current_Certified\"]]\n"
   ]
  },
  {
   "cell_type": "code",
   "execution_count": 6,
   "id": "04bee45f",
   "metadata": {},
   "outputs": [],
   "source": [
    "df.to_csv('SBO_updated.csv', index=False)"
   ]
  }
 ],
 "metadata": {
  "kernelspec": {
   "display_name": "Python 3 (ipykernel)",
   "language": "python",
   "name": "python3"
  },
  "language_info": {
   "codemirror_mode": {
    "name": "ipython",
    "version": 3
   },
   "file_extension": ".py",
   "mimetype": "text/x-python",
   "name": "python",
   "nbconvert_exporter": "python",
   "pygments_lexer": "ipython3",
   "version": "3.11.5"
  }
 },
 "nbformat": 4,
 "nbformat_minor": 5
}
